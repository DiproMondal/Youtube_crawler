{
 "cells": [
  {
   "cell_type": "code",
   "execution_count": 1,
   "metadata": {},
   "outputs": [],
   "source": [
    "from bs4 import BeautifulSoup\n",
    "import pandas as pd\n",
    "import json\n",
    "import os\n",
    "import requests"
   ]
  },
  {
   "cell_type": "code",
   "execution_count": 2,
   "metadata": {},
   "outputs": [
    {
     "name": "stdout",
     "output_type": "stream",
     "text": [
      "Enter Youtube Video Url- https://www.youtube.com/watch?v=FcSvqOPm0mw\n",
      "Title of the video url: O Saathi - Atif Aslam - Baaghi 2 - Lyrics with translations\n",
      "Channel : Zahid LaQani\n",
      "Link: www.youtube.com/channel/UC6_pQv6kNfVa5T55OTIAStw\n",
      "Number of Subscibers: 23,7K\n",
      "Category for the video url: Music\n",
      "View count for the video url: 9.923.001\n",
      "Likes: 19.167    Dislikes: 1.666\n"
     ]
    }
   ],
   "source": [
    "url = input('Enter Youtube Video Url- ')\n",
    "Vid={}\n",
    "Link = url\n",
    "source= requests.get(url).text\n",
    "soup=BeautifulSoup(source,'lxml')\n",
    "div_s = soup.findAll('div')\n",
    "\n",
    "Title = div_s[1].find('span',class_='watch-title').text.strip()\n",
    "Vid['Title']=Title\n",
    "Vid['Link']=Link\n",
    "Channel_name = div_s[1].find('a',class_=\"yt-uix-sessionlink spf-link\").text.strip()\n",
    "Channel_link = ('www.youtube.com'+div_s[1].find('a',class_=\"yt-uix-sessionlink spf-link\").get('href'))\n",
    "Subscribers = div_s[1].find('span',class_=\"yt-subscription-button-subscriber-count-branded-horizontal yt-subscriber-count\").text.strip()\n",
    "if len(Channel_name) ==0\n",
    "    Channel_name ='None'\n",
    "    Channel_link = 'None'\n",
    "    Subscribers = 'None'\n",
    "Vid['Channel']=Channel_name\n",
    "Vid['Channel_link']=Channel_link\n",
    "Vid['Channel_subscribers']=Subscribers\n",
    "\n",
    "\n",
    "Category_index = {\n",
    "     1 : 'Film & Animation',\n",
    "     2 : 'Autos & Vehicles',\n",
    "     10 : 'Music',\n",
    "     15 : 'Pets & Animals',\n",
    "     17 : 'Sports',\n",
    "     19 : 'Travel & Events',\n",
    "     20 : 'Gaming',\n",
    "     22 : 'People & Blogs',\n",
    "     23 : 'Comedy',\n",
    "     24 : 'Entertainment',\n",
    "     25 : 'News & Politics',\n",
    "     26 : 'Howto & Style',\n",
    "     27 : 'Education',\n",
    "     28 : 'Science & Technology',\n",
    "     29 : 'Nonprofits & Activism'}\n",
    "Sp = div_s[1].text.split(':')\n",
    "subs = 'categoryId'\n",
    "for j in range(len(Sp)):\n",
    "    if subs in Sp[j]:\n",
    "        value =int(Sp[j+1].split(',')[0])\n",
    "Video_category=Category_index[value]        \n",
    "Vid['Category']=Video_category\n",
    "\n",
    "View_count = div_s[1].find(class_= 'watch-view-count')\n",
    "View_count = View_count.text.strip().split()[0]\n",
    "Vid['Views']=View_count\n",
    "\n",
    "\n",
    "Likes = div_s[1].find('button',class_=\"yt-uix-button yt-uix-button-size-default yt-uix-button-opacity yt-uix-button-has-icon no-icon-markup like-button-renderer-like-button like-button-renderer-like-button-unclicked yt-uix-clickcard-target yt-uix-tooltip\" ).text.strip()\n",
    "Vid['Likes']=Likes\n",
    "Dislikes = div_s[1].find('button',class_=\"yt-uix-button yt-uix-button-size-default yt-uix-button-opacity yt-uix-button-has-icon no-icon-markup like-button-renderer-dislike-button like-button-renderer-dislike-button-unclicked yt-uix-clickcard-target yt-uix-tooltip\" ).text.strip()\n",
    "Vid['Dislikes']=Dislikes\n",
    "\n",
    "Related_videos = div_s[1].findAll('a',class_='content-link spf-link yt-uix-sessionlink spf-link')\n",
    "Title_Related=[]\n",
    "Link_Related =[]\n",
    "for i in range(len(Related_videos)):\n",
    "    Title_Related.append(Related_videos[i].get('title'))\n",
    "    Link_Related.append(Related_videos[i].get('href'))\n",
    "Related_dictionary = dict(zip(Title_Related, Link_Related))    \n",
    "Vid['Related_vids']=Related_dictionary\n",
    "\n",
    "\n",
    "\n",
    "\n",
    "print('Title of the video url:', Title)\n",
    "print('Channel :', Channel_name)\n",
    "print('Link:', Channel_link)\n",
    "print('Number of Subscibers:', Subscribers)\n",
    "print('Category for the video url:',Video_category)\n",
    "print('View count for the video url:', View_count)\n",
    "print('Likes:',Likes,'  ','Dislikes:',Dislikes)\n",
    "\n",
    "\n",
    "with open('vfile.json', 'w', encoding='utf8') as ou:\n",
    "    json.dump(Vid, ou, ensure_ascii=False)\n",
    "    "
   ]
  },
  {
   "cell_type": "code",
   "execution_count": 3,
   "metadata": {},
   "outputs": [],
   "source": [
    "df = pd.DataFrame(Vid, index =[0])"
   ]
  },
  {
   "cell_type": "code",
   "execution_count": 4,
   "metadata": {},
   "outputs": [
    {
     "data": {
      "text/html": [
       "<div>\n",
       "<style scoped>\n",
       "    .dataframe tbody tr th:only-of-type {\n",
       "        vertical-align: middle;\n",
       "    }\n",
       "\n",
       "    .dataframe tbody tr th {\n",
       "        vertical-align: top;\n",
       "    }\n",
       "\n",
       "    .dataframe thead th {\n",
       "        text-align: right;\n",
       "    }\n",
       "</style>\n",
       "<table border=\"1\" class=\"dataframe\">\n",
       "  <thead>\n",
       "    <tr style=\"text-align: right;\">\n",
       "      <th></th>\n",
       "      <th>Title</th>\n",
       "      <th>Link</th>\n",
       "      <th>Channel</th>\n",
       "      <th>Channel_link</th>\n",
       "      <th>Channel_subscribers</th>\n",
       "      <th>Category</th>\n",
       "      <th>Views</th>\n",
       "      <th>Likes</th>\n",
       "      <th>Dislikes</th>\n",
       "      <th>Related_vids</th>\n",
       "    </tr>\n",
       "  </thead>\n",
       "  <tbody>\n",
       "    <tr>\n",
       "      <th>0</th>\n",
       "      <td>O Saathi - Atif Aslam - Baaghi 2 - Lyrics with...</td>\n",
       "      <td>https://www.youtube.com/watch?v=FcSvqOPm0mw</td>\n",
       "      <td>Zahid LaQani</td>\n",
       "      <td>www.youtube.com/channel/UC6_pQv6kNfVa5T55OTIAStw</td>\n",
       "      <td>23,7K</td>\n",
       "      <td>Music</td>\n",
       "      <td>9.923.001</td>\n",
       "      <td>19.167</td>\n",
       "      <td>1.666</td>\n",
       "      <td>NaN</td>\n",
       "    </tr>\n",
       "  </tbody>\n",
       "</table>\n",
       "</div>"
      ],
      "text/plain": [
       "                                               Title  \\\n",
       "0  O Saathi - Atif Aslam - Baaghi 2 - Lyrics with...   \n",
       "\n",
       "                                          Link       Channel  \\\n",
       "0  https://www.youtube.com/watch?v=FcSvqOPm0mw  Zahid LaQani   \n",
       "\n",
       "                                       Channel_link Channel_subscribers  \\\n",
       "0  www.youtube.com/channel/UC6_pQv6kNfVa5T55OTIAStw               23,7K   \n",
       "\n",
       "  Category      Views   Likes Dislikes  Related_vids  \n",
       "0    Music  9.923.001  19.167    1.666           NaN  "
      ]
     },
     "execution_count": 4,
     "metadata": {},
     "output_type": "execute_result"
    }
   ],
   "source": [
    "df"
   ]
  }
 ],
 "metadata": {
  "kernelspec": {
   "display_name": "Python 3",
   "language": "python",
   "name": "python3"
  },
  "language_info": {
   "codemirror_mode": {
    "name": "ipython",
    "version": 3
   },
   "file_extension": ".py",
   "mimetype": "text/x-python",
   "name": "python",
   "nbconvert_exporter": "python",
   "pygments_lexer": "ipython3",
   "version": "3.7.3"
  }
 },
 "nbformat": 4,
 "nbformat_minor": 2
}
