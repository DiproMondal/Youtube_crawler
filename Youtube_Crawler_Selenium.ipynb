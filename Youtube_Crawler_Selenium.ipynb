{
 "cells": [
  {
   "cell_type": "code",
   "execution_count": 1,
   "metadata": {},
   "outputs": [],
   "source": [
    "import json\n",
    "import os\n",
    "from datetime import datetime\n",
    "from selenium import webdriver\n",
    "from selenium.webdriver.common.keys import Keys\n",
    "from selenium.webdriver.chrome.options import Options \n",
    "\n",
    "options = Options()\n",
    "options.headless=True\n",
    "\n"
   ]
  },
  {
   "cell_type": "code",
   "execution_count": 80,
   "metadata": {},
   "outputs": [],
   "source": [
    "def Get_info():\n",
    "    url = input('Enter Youtube Video Url- ')\n",
    "    driver = webdriver.Chrome(options=options)\n",
    "    driver.get(url)\n",
    "    Vid={}\n",
    "    References = {}\n",
    "\n",
    "    References['Title'] = \"//*[@id='container']/h1\"\n",
    "    References['Channel'] = \"//*[@id='text']/a\"\n",
    "    References['Subscribers'] = \"//*[@id='owner-sub-count']\"\n",
    "    References['Tags'] = \"//*[@id='container']/yt-formatted-string\"\n",
    "    References['Views'] = \"//*[@id='count']/yt-view-count-renderer\"\n",
    "    References['Likes'] = \"/html/body/ytd-app/div/ytd-page-manager/ytd-watch-flexy/div[4]/div[1]/div/div[7]/div[2]/ytd-video-primary-info-renderer/div/div/div[3]/div/ytd-menu-renderer/div/ytd-toggle-button-renderer[1]/a/yt-formatted-string\"\n",
    "    References['Dislikes'] = \"/html/body/ytd-app/div/ytd-page-manager/ytd-watch-flexy/div[4]/div[1]/div/div[7]/div[2]/ytd-video-primary-info-renderer/div/div/div[3]/div/ytd-menu-renderer/div/ytd-toggle-button-renderer[2]/a/yt-formatted-string\"\n",
    "    References['DateUpload']= \"//*[@id='date']/yt-formatted-string\"\n",
    "\n",
    "    INFO_List = list()\n",
    "    for i in range(0,len(References)):\n",
    "        driver_elements = driver.find_element_by_xpath(References[list(References.keys())[i]])\n",
    "        INFO_List.append(driver_elements.text)\n",
    "    Vid = dict(zip(list(References.keys()), INFO_List))\n",
    "    Vid['Link'] = url\n",
    "    Related = {}\n",
    "    Related_video_links = []\n",
    "    Related_video_title = []\n",
    "    Related_videos = driver.find_elements_by_xpath(\"//*[@id='video-title']\")\n",
    "    Related_video_links = [links.get_attribute(\"href\") for links in driver.find_elements_by_xpath(\"//*[@id='dismissable']/div/div[1]/a\")]\n",
    "    Related_video_title = [videos.text for videos in Related_videos][:len(Related_video_links)]\n",
    "    Related = dict(zip(Related_video_title, Related_video_links))\n",
    "    Vid['Related'] = Related\n",
    "    return(Vid)"
   ]
  },
  {
   "cell_type": "code",
   "execution_count": 82,
   "metadata": {},
   "outputs": [
    {
     "name": "stdout",
     "output_type": "stream",
     "text": [
      "Enter Youtube Video Url- https://www.youtube.com/watch?v=RaKvktg8IYI\n"
     ]
    },
    {
     "data": {
      "text/plain": [
       "{'Title': 'Friends: Ross and Rachel’s Love Story (Mashup) | TBS',\n",
       " 'Channel': 'TBS',\n",
       " 'Subscribers': '1.07M subscribers',\n",
       " 'Tags': '#TBS #Friends #DavidSchwimmer',\n",
       " 'Views': '618,926 views',\n",
       " 'Likes': '6.7K',\n",
       " 'Dislikes': '189',\n",
       " 'DateUpload': 'Jul 1, 2020',\n",
       " 'Link': 'https://www.youtube.com/watch?v=RaKvktg8IYI',\n",
       " 'Related': {'Friends: Best Moments of Season 1 to Binge at Home | TBS': 'https://www.youtube.com/watch?v=ggZkZK-9Pm4',\n",
       "  \"Friends: Monica and Chandler's Love Story (Mashup) | TBS\": 'https://www.youtube.com/watch?v=1WlMxRuVbFY',\n",
       "  'Friends: Top 20 Funniest Moments | TBS': 'https://www.youtube.com/watch?v=xHcPhdZBngw',\n",
       "  'Friends: Ross’s Pettiest Moments (Mashup) | TBS': 'https://www.youtube.com/watch?v=YT127qw8eQQ',\n",
       "  'Friends | TBS': 'https://www.youtube.com/watch?v=U_jA2AvKQfU&list=PLJBo3iyb1U0cGfTm1du_L8b81kiGioqJ7',\n",
       "  'Friends: Joey’s Top 22 Worst Advice Moments | TBS': 'https://www.youtube.com/watch?v=11XnzEaFThU',\n",
       "  'Friends: Chandler Gets A Little Desperate (Season 1 Clip) | TBS': 'https://www.youtube.com/watch?v=lrNcx2D_FZI',\n",
       "  'Friends: Ross and Rachel’s Intense Poker Showdown (Season 1 Clip) | TBS': 'https://www.youtube.com/watch?v=wxmmya8_fKw',\n",
       "  \"Friends: Chandler's Most Sarcastic Moments (Mashup) | TBS\": 'https://www.youtube.com/watch?v=VVQB_M2f6xM',\n",
       "  'Friends: Ross Cheats on Rachel (Season 3 Clip) | TBS': 'https://www.youtube.com/watch?v=wizgxRBfVTY',\n",
       "  'Friends: Monica and Rachel Babysit Ben (Season 3 Clip) | TBS': 'https://www.youtube.com/watch?v=iYfQFsilPn8',\n",
       "  \"Friends: Phoebe's Best Songs | TBS\": 'https://www.youtube.com/watch?v=W-VteLHfXD8',\n",
       "  'Friends: Will Lost Weight (Clip) | TBS': 'https://www.youtube.com/watch?v=ghYIKh9F5VE',\n",
       "  \"Friends: Phoebe Becomes Chandler's Temp Secretary (Season 1 Clip) | TBS\": 'https://www.youtube.com/watch?v=V6TyZj4gkYQ',\n",
       "  'Friends: Monica Decides to Get Over Richard (Season 3 Clip) | TBS': 'https://www.youtube.com/watch?v=zVo0vPZZNK4',\n",
       "  'Friends: Ross’ Phone Call with Julie Annoys Rachel (Season 2 Clip) | TBS': 'https://www.youtube.com/watch?v=EdQxtsTwHHs',\n",
       "  'Friends: Monica Doesn’t Think She Has OCD (Season 1 Clip) | TBS': 'https://www.youtube.com/watch?v=Ht0IbFNbfSY',\n",
       "  'Friends: Joey and Chandler are Obsessed with Richard (Season 2 Clip) | TBS': 'https://www.youtube.com/watch?v=DkSMrI86NWk',\n",
       "  \"Friends: A Petty Rachel Won't Go to Ross' Party (Season 3 Clip) | TBS\": 'https://www.youtube.com/watch?v=bYG1aBU9cI4',\n",
       "  'Friends: Chandler and Ross Befriend Their Bullies (Season 2 Clip) | TBS': 'https://www.youtube.com/watch?v=MAnvn25URvc'}}"
      ]
     },
     "execution_count": 82,
     "metadata": {},
     "output_type": "execute_result"
    }
   ],
   "source": [
    "Get_info()"
   ]
  },
  {
   "cell_type": "code",
   "execution_count": null,
   "metadata": {},
   "outputs": [],
   "source": []
  }
 ],
 "metadata": {
  "kernelspec": {
   "display_name": "Python 3",
   "language": "python",
   "name": "python3"
  },
  "language_info": {
   "codemirror_mode": {
    "name": "ipython",
    "version": 3
   },
   "file_extension": ".py",
   "mimetype": "text/x-python",
   "name": "python",
   "nbconvert_exporter": "python",
   "pygments_lexer": "ipython3",
   "version": "3.8.5"
  }
 },
 "nbformat": 4,
 "nbformat_minor": 4
}
